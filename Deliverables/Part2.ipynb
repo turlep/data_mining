{
 "cells": [
  {
   "cell_type": "code",
   "execution_count": 1,
   "metadata": {},
   "outputs": [],
   "source": [
    "import pandas as pd\n",
    "import numpy as np\n",
    "from matplotlib import pyplot as plt\n",
    "import math\n",
    "import sys\n",
    "from pprint import pprint\n",
    "\n",
    "# sklearn algorithms\n",
    "from sklearn import tree\n",
    "from sklearn.ensemble import RandomForestClassifier\n",
    "from sklearn.neighbors import KNeighborsClassifier\n",
    "from sklearn.metrics import roc_curve, auc\n",
    "\n",
    "\n",
    "# CV\n",
    "from sklearn.decomposition import PCA\n",
    "from sklearn.pipeline import Pipeline\n",
    "from sklearn.model_selection import GridSearchCV, RandomizedSearchCV\n",
    "from sklearn.preprocessing import StandardScaler"
   ]
  },
  {
   "cell_type": "markdown",
   "metadata": {},
   "source": [
    "## functions:"
   ]
  },
  {
   "cell_type": "code",
   "execution_count": 2,
   "metadata": {},
   "outputs": [],
   "source": [
    "def lab_var_sep(df, labelName):\n",
    "    '''seperates class from predictor variables: df, columnName -> df, Series'''\n",
    "    class_labels = df[labelName]\n",
    "    predictor_variables = df.drop(labelName, axis=1)\n",
    "    return(class_labels, predictor_variables)"
   ]
  },
  {
   "cell_type": "code",
   "execution_count": 3,
   "metadata": {},
   "outputs": [],
   "source": [
    "def getEvalStats(predicted, actual):\n",
    "    '''counts up True/False Positive/Negative results for model evaluation'''\n",
    "    comp = actual.compare(predicted, keep_equal=True, keep_shape=True) # self = test_y, create comp df\n",
    "    preds = comp[\"self\"]\n",
    "    actual = comp[\"other\"]\n",
    "\n",
    "    TPs = TNs = FPs = FNs = errors = 0\n",
    "    for i in range(0, len(preds)):\n",
    "        if (preds[i] == 1): # P\n",
    "            if (preds[i] == actual[i]): # TP\n",
    "                TPs += 1\n",
    "            elif (preds[i] != actual[i]): # FP\n",
    "                FPs += 1\n",
    "\n",
    "        elif (preds[i] == 0): # N\n",
    "            if (preds[i] == actual[i]): # TN\n",
    "                TNs += 1\n",
    "            elif (preds[i] != actual[i]): # FN\n",
    "                FNs += 1\n",
    "        else:\n",
    "            errors += 1\n",
    "            \n",
    "    if (errors != 0): # returns before giving false information\n",
    "        print(\"there was an error somewhere\")\n",
    "        return 0\n",
    "\n",
    "    return(TPs, TNs, FPs, FNs)"
   ]
  },
  {
   "cell_type": "code",
   "execution_count": 4,
   "metadata": {},
   "outputs": [],
   "source": [
    "def evaluate(tp, tn, fp, fn):\n",
    "    '''evaluate the model, returns accuracy, sensitivity, specificity and precision'''\n",
    "    # accuracy\n",
    "    accScore = 100 * ( (tn + tp) / (tp + fp + tn + fn) )\n",
    "    # sensitivity\n",
    "    senScore = 100 * (tp / (tp + fn) )\n",
    "    # specificity\n",
    "    speScore = 100 * (tn / (tn + fp) )\n",
    "    # precision\n",
    "    preScore = 100 * (tp / (tp + fp) )\n",
    "\n",
    "    return(accScore, senScore, speScore, preScore)"
   ]
  },
  {
   "cell_type": "code",
   "execution_count": 5,
   "metadata": {},
   "outputs": [],
   "source": [
    "def confMatrix(tp, tn, fp, fn):\n",
    "    '''prints a confusion matrix'''\n",
    "    cm = pd.DataFrame({\"True\": [tp, tn], \n",
    "                       \"False\": [fp, fn]\n",
    "                      }, \n",
    "                      index = [\"Positive\", \"Negative\"]\n",
    "                     )\n",
    "    display(cm)"
   ]
  },
  {
   "cell_type": "code",
   "execution_count": 6,
   "metadata": {},
   "outputs": [],
   "source": [
    "def dp2(val):\n",
    "    return (round(val,2))"
   ]
  },
  {
   "cell_type": "code",
   "execution_count": 7,
   "metadata": {},
   "outputs": [],
   "source": [
    "def printEvalStats(acc, sen, spe, pre):\n",
    "    '''prints evaluation statistics, returns nothing'''\n",
    "    print(\"accuracy:\",dp2(acc),\"%  \", \n",
    "      \"sensitivity:\",dp2(sen), \"%  \", \n",
    "      \"specificity:\",dp2(spe), \"%  \",\n",
    "      \"precision:\",dp2(pre), \"%\")"
   ]
  },
  {
   "cell_type": "markdown",
   "metadata": {},
   "source": [
    "## Task:\n",
    "As I am working alone I will be using the kNN, Random Forest, and Descision Tree algorithms. "
   ]
  },
  {
   "cell_type": "code",
   "execution_count": 8,
   "metadata": {},
   "outputs": [],
   "source": [
    "# loading the files\n",
    "df_train = pd.read_csv(\"../CSV_files/creditdefault_train.csv\")\n",
    "df_test = pd.read_csv(\"../CSV_files/creditdefault_test.csv\")"
   ]
  },
  {
   "cell_type": "code",
   "execution_count": 9,
   "metadata": {},
   "outputs": [],
   "source": [
    "# seperate data into necessary parts\n",
    "train_y, train_x = lab_var_sep(df_train, \"Y\") # training\n",
    "test_y, test_x = lab_var_sep(df_test, \"Y\") # testing"
   ]
  },
  {
   "cell_type": "markdown",
   "metadata": {},
   "source": [
    "### Desicion Tree Classifier"
   ]
  },
  {
   "cell_type": "markdown",
   "metadata": {},
   "source": [
    "Moreover, for each algorithm mentioned above, include at least 1 chart in the notebook illustrating how the performance of the models vary when you vary the hyper parameters’ values."
   ]
  },
  {
   "cell_type": "code",
   "execution_count": 10,
   "metadata": {},
   "outputs": [
    {
     "data": {
      "text/plain": [
       "GridSearchCV(estimator=Pipeline(steps=[('scl', StandardScaler()),\n",
       "                                       ('pca', PCA()),\n",
       "                                       ('dtc', DecisionTreeClassifier())]),\n",
       "             param_grid={'dtc__criterion': ['gini', 'entropy'],\n",
       "                         'dtc__max_depth': [2, 4, 6, 8, 10]})"
      ]
     },
     "execution_count": 10,
     "metadata": {},
     "output_type": "execute_result"
    }
   ],
   "source": [
    "# gridsearch to find best hyperparameters\n",
    "scl = StandardScaler()\n",
    "pca = PCA()\n",
    "dtc = tree.DecisionTreeClassifier()\n",
    "\n",
    "pipe = Pipeline(steps=[('scl', scl),\n",
    "                       ('pca', pca),\n",
    "                       ('dtc', dtc)\n",
    "                      ]\n",
    "               )\n",
    "\n",
    "criterion = ['gini', 'entropy']\n",
    "max_depth = [2,4,6,8,10]\n",
    "parameters = dict(dtc__criterion=criterion, \n",
    "                  dtc__max_depth=max_depth\n",
    "                 )\n",
    "\n",
    "gcv = GridSearchCV(pipe, parameters)\n",
    "gcv.fit(train_x, train_y)"
   ]
  },
  {
   "cell_type": "code",
   "execution_count": 11,
   "metadata": {},
   "outputs": [
    {
     "data": {
      "text/html": [
       "<div>\n",
       "<style scoped>\n",
       "    .dataframe tbody tr th:only-of-type {\n",
       "        vertical-align: middle;\n",
       "    }\n",
       "\n",
       "    .dataframe tbody tr th {\n",
       "        vertical-align: top;\n",
       "    }\n",
       "\n",
       "    .dataframe thead th {\n",
       "        text-align: right;\n",
       "    }\n",
       "</style>\n",
       "<table border=\"1\" class=\"dataframe\">\n",
       "  <thead>\n",
       "    <tr style=\"text-align: right;\">\n",
       "      <th></th>\n",
       "      <th>params</th>\n",
       "      <th>split0_test_score</th>\n",
       "      <th>split1_test_score</th>\n",
       "      <th>split2_test_score</th>\n",
       "      <th>split3_test_score</th>\n",
       "      <th>split4_test_score</th>\n",
       "      <th>mean_test_score</th>\n",
       "      <th>std_test_score</th>\n",
       "      <th>rank_test_score</th>\n",
       "    </tr>\n",
       "  </thead>\n",
       "  <tbody>\n",
       "    <tr>\n",
       "      <th>1</th>\n",
       "      <td>{'dtc__criterion': 'gini', 'dtc__max_depth': 4}</td>\n",
       "      <td>0.789667</td>\n",
       "      <td>0.800667</td>\n",
       "      <td>0.805667</td>\n",
       "      <td>0.821667</td>\n",
       "      <td>0.814667</td>\n",
       "      <td>0.806467</td>\n",
       "      <td>0.011089</td>\n",
       "      <td>1</td>\n",
       "    </tr>\n",
       "    <tr>\n",
       "      <th>7</th>\n",
       "      <td>{'dtc__criterion': 'entropy', 'dtc__max_depth'...</td>\n",
       "      <td>0.789667</td>\n",
       "      <td>0.804000</td>\n",
       "      <td>0.797000</td>\n",
       "      <td>0.822000</td>\n",
       "      <td>0.811333</td>\n",
       "      <td>0.804800</td>\n",
       "      <td>0.011216</td>\n",
       "      <td>2</td>\n",
       "    </tr>\n",
       "    <tr>\n",
       "      <th>2</th>\n",
       "      <td>{'dtc__criterion': 'gini', 'dtc__max_depth': 6}</td>\n",
       "      <td>0.795667</td>\n",
       "      <td>0.800667</td>\n",
       "      <td>0.804333</td>\n",
       "      <td>0.812333</td>\n",
       "      <td>0.810333</td>\n",
       "      <td>0.804667</td>\n",
       "      <td>0.006132</td>\n",
       "      <td>3</td>\n",
       "    </tr>\n",
       "    <tr>\n",
       "      <th>8</th>\n",
       "      <td>{'dtc__criterion': 'entropy', 'dtc__max_depth'...</td>\n",
       "      <td>0.797667</td>\n",
       "      <td>0.805000</td>\n",
       "      <td>0.795000</td>\n",
       "      <td>0.815000</td>\n",
       "      <td>0.808000</td>\n",
       "      <td>0.804133</td>\n",
       "      <td>0.007198</td>\n",
       "      <td>4</td>\n",
       "    </tr>\n",
       "    <tr>\n",
       "      <th>6</th>\n",
       "      <td>{'dtc__criterion': 'entropy', 'dtc__max_depth'...</td>\n",
       "      <td>0.787333</td>\n",
       "      <td>0.802333</td>\n",
       "      <td>0.798667</td>\n",
       "      <td>0.819667</td>\n",
       "      <td>0.810667</td>\n",
       "      <td>0.803733</td>\n",
       "      <td>0.010941</td>\n",
       "      <td>5</td>\n",
       "    </tr>\n",
       "  </tbody>\n",
       "</table>\n",
       "</div>"
      ],
      "text/plain": [
       "                                              params  split0_test_score  \\\n",
       "1    {'dtc__criterion': 'gini', 'dtc__max_depth': 4}           0.789667   \n",
       "7  {'dtc__criterion': 'entropy', 'dtc__max_depth'...           0.789667   \n",
       "2    {'dtc__criterion': 'gini', 'dtc__max_depth': 6}           0.795667   \n",
       "8  {'dtc__criterion': 'entropy', 'dtc__max_depth'...           0.797667   \n",
       "6  {'dtc__criterion': 'entropy', 'dtc__max_depth'...           0.787333   \n",
       "\n",
       "   split1_test_score  split2_test_score  split3_test_score  split4_test_score  \\\n",
       "1           0.800667           0.805667           0.821667           0.814667   \n",
       "7           0.804000           0.797000           0.822000           0.811333   \n",
       "2           0.800667           0.804333           0.812333           0.810333   \n",
       "8           0.805000           0.795000           0.815000           0.808000   \n",
       "6           0.802333           0.798667           0.819667           0.810667   \n",
       "\n",
       "   mean_test_score  std_test_score  rank_test_score  \n",
       "1         0.806467        0.011089                1  \n",
       "7         0.804800        0.011216                2  \n",
       "2         0.804667        0.006132                3  \n",
       "8         0.804133        0.007198                4  \n",
       "6         0.803733        0.010941                5  "
      ]
     },
     "execution_count": 11,
     "metadata": {},
     "output_type": "execute_result"
    }
   ],
   "source": [
    "#building a dataframe from cross-validation data\n",
    "df_cv_scores=pd.DataFrame(gcv.cv_results_).sort_values(by='rank_test_score')\n",
    "\n",
    "# display top 5 test results\n",
    "df_cv_scores[\n",
    "    ['params', \n",
    "     'split0_test_score', \n",
    "     'split1_test_score', \n",
    "     'split2_test_score', \n",
    "     'split3_test_score', \n",
    "     'split4_test_score', \n",
    "     'mean_test_score', \n",
    "     'std_test_score', \n",
    "     'rank_test_score'\n",
    "    ] \n",
    "].head()"
   ]
  },
  {
   "cell_type": "code",
   "execution_count": 12,
   "metadata": {},
   "outputs": [
    {
     "name": "stdout",
     "output_type": "stream",
     "text": [
      "gini\n",
      "4\n"
     ]
    }
   ],
   "source": [
    "# take optimal parameters as variables\n",
    "bestCri= gcv.best_params_['dtc__criterion']\n",
    "bestDepth = gcv.best_params_['dtc__max_depth']\n",
    "\n",
    "print(bestCri)\n",
    "print(bestDepth)"
   ]
  },
  {
   "cell_type": "code",
   "execution_count": 13,
   "metadata": {},
   "outputs": [],
   "source": [
    "# train the decision tree model using best parameters\n",
    "dtc = tree.DecisionTreeClassifier(criterion=bestCri, max_depth=bestDepth) # remove the randomness\n",
    "dtc = dtc.fit(train_x, train_y)"
   ]
  },
  {
   "cell_type": "code",
   "execution_count": 14,
   "metadata": {},
   "outputs": [],
   "source": [
    "# run the model to obtain predictions and convert to a series\n",
    "dtcPreds = pd.Series(dtc.predict(test_x))"
   ]
  },
  {
   "cell_type": "code",
   "execution_count": 15,
   "metadata": {},
   "outputs": [
    {
     "data": {
      "text/html": [
       "<div>\n",
       "<style scoped>\n",
       "    .dataframe tbody tr th:only-of-type {\n",
       "        vertical-align: middle;\n",
       "    }\n",
       "\n",
       "    .dataframe tbody tr th {\n",
       "        vertical-align: top;\n",
       "    }\n",
       "\n",
       "    .dataframe thead th {\n",
       "        text-align: right;\n",
       "    }\n",
       "</style>\n",
       "<table border=\"1\" class=\"dataframe\">\n",
       "  <thead>\n",
       "    <tr style=\"text-align: right;\">\n",
       "      <th></th>\n",
       "      <th>True</th>\n",
       "      <th>False</th>\n",
       "    </tr>\n",
       "  </thead>\n",
       "  <tbody>\n",
       "    <tr>\n",
       "      <th>Positive</th>\n",
       "      <td>1136</td>\n",
       "      <td>2182</td>\n",
       "    </tr>\n",
       "    <tr>\n",
       "      <th>Negative</th>\n",
       "      <td>11123</td>\n",
       "      <td>559</td>\n",
       "    </tr>\n",
       "  </tbody>\n",
       "</table>\n",
       "</div>"
      ],
      "text/plain": [
       "           True  False\n",
       "Positive   1136   2182\n",
       "Negative  11123    559"
      ]
     },
     "metadata": {},
     "output_type": "display_data"
    }
   ],
   "source": [
    "# Obtain evaluation statistics - true/ false, positive/ negative\n",
    "tp, tn, fp, fn = getEvalStats(dtcPreds, test_y)\n",
    "\n",
    "# display these as a confusion matrix\n",
    "confMatrix(tp, tn, fp, fn)"
   ]
  },
  {
   "cell_type": "code",
   "execution_count": 16,
   "metadata": {},
   "outputs": [
    {
     "name": "stdout",
     "output_type": "stream",
     "text": [
      "accuracy: 81.73 %   sensitivity: 67.02 %   specificity: 83.6 %   precision: 34.24 %\n"
     ]
    }
   ],
   "source": [
    "# display evaluation statistics\n",
    "acc, sen, spe, pre = evaluate(tp, tn, fp, fn)\n",
    "printEvalStats(acc, sen, spe, pre)"
   ]
  },
  {
   "cell_type": "code",
   "execution_count": 17,
   "metadata": {},
   "outputs": [
    {
     "name": "stdout",
     "output_type": "stream",
     "text": [
      "ROC_AUC Value: \n",
      " 0.6472617646721917\n"
     ]
    }
   ],
   "source": [
    "# ROC_AUC value\n",
    "fpr, tpr, th = roc_curve(test_y, dtcPreds)\n",
    "roc_auc = auc(fpr, tpr)\n",
    "print(\"ROC_AUC Value: \\n\", roc_auc)"
   ]
  },
  {
   "cell_type": "code",
   "execution_count": 18,
   "metadata": {},
   "outputs": [
    {
     "data": {
      "image/png": "[encoded data removed]",
      "text/plain": [
       "<Figure size 432x288 with 1 Axes>"
      ]
     },
     "metadata": {
      "needs_background": "light"
     },
     "output_type": "display_data"
    }
   ],
   "source": [
    "# Plot ROC curve\n",
    "plt.plot(fpr, tpr, label='ROC curve (area = %0.3f)' % roc_auc)\n",
    "plt.plot([0, 1], [0, 1], 'k--')  # predictions curve\n",
    "plt.xlim([0.0, 1.0])\n",
    "plt.ylim([0.0, 1.0])\n",
    "plt.xlabel('False Positive Rate or (1 - Specifity)')\n",
    "plt.ylabel('True Positive Rate or (Sensitivity)')\n",
    "plt.title('Receiver Operating Characteristic')\n",
    "plt.legend(loc=\"lower right\")\n",
    "plt.show()"
   ]
  },
  {
   "cell_type": "markdown",
   "metadata": {},
   "source": [
    "#### Evaluation\n",
    "Here I used gridsearchCV to cross validate my model, which is surprisingly non-precise. I have tried various other hyperparameters and the precision always seems to be very low. The other model parameters are good, and this is only a basic algorithm, so I decided to stop worrying about getting better results."
   ]
  },
  {
   "cell_type": "markdown",
   "metadata": {},
   "source": [
    "### Random Forest Classifier"
   ]
  },
  {
   "cell_type": "code",
   "execution_count": 19,
   "metadata": {},
   "outputs": [
    {
     "name": "stdout",
     "output_type": "stream",
     "text": [
      "{'bootstrap': True,\n",
      " 'max_features': 'auto',\n",
      " 'min_samples_leaf': 8,\n",
      " 'min_samples_split': 40,\n",
      " 'n_estimators': 120}\n"
     ]
    }
   ],
   "source": [
    "# random search to find best parameters - finally got this down to a reasonable time, but it still takes a while\n",
    "rfc = RandomForestClassifier() # \n",
    "\n",
    "# declare search grid (random grid)\n",
    "n_estimators = [int(x) for x in np.linspace(start = 20, stop = 200, num = 10)] # no. trees\n",
    "max_features = ['auto', 'sqrt'] # no. features at split\n",
    "min_samples_split = [10, 20, 40] # min samples to split node\n",
    "min_samples_leaf = [4, 8, 16] # min leafs required\n",
    "bootstrap = [True, False] # bootstrap or not\n",
    "\n",
    "# combine these all into a random grid\n",
    "random_grid = {'n_estimators': n_estimators,\n",
    "               'max_features': max_features,\n",
    "               'min_samples_split': min_samples_split,\n",
    "               'min_samples_leaf': min_samples_leaf,\n",
    "               'bootstrap': bootstrap}\n",
    "\n",
    "# declare random search\n",
    "rfc_random = RandomizedSearchCV(estimator = rfc, \n",
    "                               param_distributions = random_grid, \n",
    "                               n_iter = 20, \n",
    "                               cv = 3, \n",
    "                               random_state=8, \n",
    "                               n_jobs = -1)\n",
    "\n",
    "# Fit the random search model\n",
    "rfc_random.fit(train_x, train_y)\n",
    "pprint(rfc_random.best_params_)"
   ]
  },
  {
   "cell_type": "code",
   "execution_count": 20,
   "metadata": {},
   "outputs": [
    {
     "data": {
      "text/plain": [
       "{'n_estimators': 120,\n",
       " 'min_samples_split': 50,\n",
       " 'min_samples_leaf': 5,\n",
       " 'max_features': 'sqrt',\n",
       " 'bootstrap': True}"
      ]
     },
     "execution_count": 20,
     "metadata": {},
     "output_type": "execute_result"
    }
   ],
   "source": [
    "# hyerparameter tuning - specific. Still takes a while to run\n",
    "\n",
    "# declare search grid (tuned grid)\n",
    "n_estimators = [115, 120, 125] # no. trees\n",
    "max_features = ['auto', 'sqrt'] # no. features at split\n",
    "min_samples_split = [30, 40, 50] # min samples to split node\n",
    "min_samples_leaf = [3, 4, 5] # min leafs required\n",
    "bootstrap = [True, False] # bootstrap to select samples\n",
    "\n",
    "# tuned grid\n",
    "tuned_grid = {'n_estimators': n_estimators,\n",
    "               'max_features': max_features,\n",
    "               'min_samples_split': min_samples_split,\n",
    "               'min_samples_leaf': min_samples_leaf,\n",
    "               'bootstrap': bootstrap\n",
    "             }\n",
    "\n",
    "# declare random search\n",
    "rfc_random = RandomizedSearchCV(estimator = rfc, \n",
    "                               param_distributions = tuned_grid, \n",
    "                               n_iter = 20, \n",
    "                               cv = 3, \n",
    "                               random_state=8, \n",
    "                               n_jobs = -1\n",
    "                               )\n",
    "\n",
    "# Fit the random search model\n",
    "rfc_random.fit(train_x, train_y)\n",
    "\n",
    "nTrees = rfc_random.best_params_[\"n_estimators\"]\n",
    "mSS = rfc_random.best_params_[\"min_samples_split\"]\n",
    "mSL = rfc_random.best_params_[\"min_samples_leaf\"]\n",
    "mF = rfc_random.best_params_[\"max_features\"]\n",
    "bS = rfc_random.best_params_[\"bootstrap\"]\n",
    "\n",
    "rfc_random.best_params_"
   ]
  },
  {
   "cell_type": "code",
   "execution_count": 21,
   "metadata": {},
   "outputs": [
    {
     "data": {
      "text/html": [
       "<div>\n",
       "<style scoped>\n",
       "    .dataframe tbody tr th:only-of-type {\n",
       "        vertical-align: middle;\n",
       "    }\n",
       "\n",
       "    .dataframe tbody tr th {\n",
       "        vertical-align: top;\n",
       "    }\n",
       "\n",
       "    .dataframe thead th {\n",
       "        text-align: right;\n",
       "    }\n",
       "</style>\n",
       "<table border=\"1\" class=\"dataframe\">\n",
       "  <thead>\n",
       "    <tr style=\"text-align: right;\">\n",
       "      <th></th>\n",
       "      <th>mean_fit_time</th>\n",
       "      <th>std_fit_time</th>\n",
       "      <th>mean_score_time</th>\n",
       "      <th>std_score_time</th>\n",
       "      <th>param_n_estimators</th>\n",
       "      <th>param_min_samples_split</th>\n",
       "      <th>param_min_samples_leaf</th>\n",
       "      <th>param_max_features</th>\n",
       "      <th>param_bootstrap</th>\n",
       "      <th>params</th>\n",
       "      <th>split0_test_score</th>\n",
       "      <th>split1_test_score</th>\n",
       "      <th>split2_test_score</th>\n",
       "      <th>mean_test_score</th>\n",
       "      <th>std_test_score</th>\n",
       "      <th>rank_test_score</th>\n",
       "    </tr>\n",
       "  </thead>\n",
       "  <tbody>\n",
       "    <tr>\n",
       "      <th>10</th>\n",
       "      <td>6.573726</td>\n",
       "      <td>0.173362</td>\n",
       "      <td>0.263424</td>\n",
       "      <td>0.010869</td>\n",
       "      <td>120</td>\n",
       "      <td>50</td>\n",
       "      <td>5</td>\n",
       "      <td>sqrt</td>\n",
       "      <td>True</td>\n",
       "      <td>{'n_estimators': 120, 'min_samples_split': 50,...</td>\n",
       "      <td>0.8160</td>\n",
       "      <td>0.8272</td>\n",
       "      <td>0.8268</td>\n",
       "      <td>0.823333</td>\n",
       "      <td>0.005188</td>\n",
       "      <td>1</td>\n",
       "    </tr>\n",
       "    <tr>\n",
       "      <th>5</th>\n",
       "      <td>7.141542</td>\n",
       "      <td>0.505349</td>\n",
       "      <td>0.315073</td>\n",
       "      <td>0.021477</td>\n",
       "      <td>125</td>\n",
       "      <td>50</td>\n",
       "      <td>3</td>\n",
       "      <td>sqrt</td>\n",
       "      <td>True</td>\n",
       "      <td>{'n_estimators': 125, 'min_samples_split': 50,...</td>\n",
       "      <td>0.8142</td>\n",
       "      <td>0.8272</td>\n",
       "      <td>0.8276</td>\n",
       "      <td>0.823000</td>\n",
       "      <td>0.006225</td>\n",
       "      <td>2</td>\n",
       "    </tr>\n",
       "    <tr>\n",
       "      <th>9</th>\n",
       "      <td>7.389973</td>\n",
       "      <td>0.099044</td>\n",
       "      <td>0.267253</td>\n",
       "      <td>0.005308</td>\n",
       "      <td>125</td>\n",
       "      <td>50</td>\n",
       "      <td>4</td>\n",
       "      <td>auto</td>\n",
       "      <td>True</td>\n",
       "      <td>{'n_estimators': 125, 'min_samples_split': 50,...</td>\n",
       "      <td>0.8150</td>\n",
       "      <td>0.8260</td>\n",
       "      <td>0.8264</td>\n",
       "      <td>0.822467</td>\n",
       "      <td>0.005282</td>\n",
       "      <td>3</td>\n",
       "    </tr>\n",
       "    <tr>\n",
       "      <th>7</th>\n",
       "      <td>7.511269</td>\n",
       "      <td>0.067111</td>\n",
       "      <td>0.267758</td>\n",
       "      <td>0.013141</td>\n",
       "      <td>120</td>\n",
       "      <td>30</td>\n",
       "      <td>3</td>\n",
       "      <td>auto</td>\n",
       "      <td>True</td>\n",
       "      <td>{'n_estimators': 120, 'min_samples_split': 30,...</td>\n",
       "      <td>0.8128</td>\n",
       "      <td>0.8272</td>\n",
       "      <td>0.8260</td>\n",
       "      <td>0.822000</td>\n",
       "      <td>0.006524</td>\n",
       "      <td>4</td>\n",
       "    </tr>\n",
       "    <tr>\n",
       "      <th>19</th>\n",
       "      <td>6.114215</td>\n",
       "      <td>0.415620</td>\n",
       "      <td>0.247900</td>\n",
       "      <td>0.017166</td>\n",
       "      <td>115</td>\n",
       "      <td>50</td>\n",
       "      <td>3</td>\n",
       "      <td>sqrt</td>\n",
       "      <td>True</td>\n",
       "      <td>{'n_estimators': 115, 'min_samples_split': 50,...</td>\n",
       "      <td>0.8130</td>\n",
       "      <td>0.8264</td>\n",
       "      <td>0.8264</td>\n",
       "      <td>0.821933</td>\n",
       "      <td>0.006317</td>\n",
       "      <td>5</td>\n",
       "    </tr>\n",
       "  </tbody>\n",
       "</table>\n",
       "</div>"
      ],
      "text/plain": [
       "    mean_fit_time  std_fit_time  mean_score_time  std_score_time  \\\n",
       "10       6.573726      0.173362         0.263424        0.010869   \n",
       "5        7.141542      0.505349         0.315073        0.021477   \n",
       "9        7.389973      0.099044         0.267253        0.005308   \n",
       "7        7.511269      0.067111         0.267758        0.013141   \n",
       "19       6.114215      0.415620         0.247900        0.017166   \n",
       "\n",
       "   param_n_estimators param_min_samples_split param_min_samples_leaf  \\\n",
       "10                120                      50                      5   \n",
       "5                 125                      50                      3   \n",
       "9                 125                      50                      4   \n",
       "7                 120                      30                      3   \n",
       "19                115                      50                      3   \n",
       "\n",
       "   param_max_features param_bootstrap  \\\n",
       "10               sqrt            True   \n",
       "5                sqrt            True   \n",
       "9                auto            True   \n",
       "7                auto            True   \n",
       "19               sqrt            True   \n",
       "\n",
       "                                               params  split0_test_score  \\\n",
       "10  {'n_estimators': 120, 'min_samples_split': 50,...             0.8160   \n",
       "5   {'n_estimators': 125, 'min_samples_split': 50,...             0.8142   \n",
       "9   {'n_estimators': 125, 'min_samples_split': 50,...             0.8150   \n",
       "7   {'n_estimators': 120, 'min_samples_split': 30,...             0.8128   \n",
       "19  {'n_estimators': 115, 'min_samples_split': 50,...             0.8130   \n",
       "\n",
       "    split1_test_score  split2_test_score  mean_test_score  std_test_score  \\\n",
       "10             0.8272             0.8268         0.823333        0.005188   \n",
       "5              0.8272             0.8276         0.823000        0.006225   \n",
       "9              0.8260             0.8264         0.822467        0.005282   \n",
       "7              0.8272             0.8260         0.822000        0.006524   \n",
       "19             0.8264             0.8264         0.821933        0.006317   \n",
       "\n",
       "    rank_test_score  \n",
       "10                1  \n",
       "5                 2  \n",
       "9                 3  \n",
       "7                 4  \n",
       "19                5  "
      ]
     },
     "execution_count": 21,
     "metadata": {},
     "output_type": "execute_result"
    }
   ],
   "source": [
    "#building a dataframe from cross-validation data\n",
    "df_cv_scores=pd.DataFrame(rfc_random.cv_results_).sort_values(by='rank_test_score')\n",
    "\n",
    "# displaying the top 5 results\n",
    "df_cv_scores.head()"
   ]
  },
  {
   "cell_type": "code",
   "execution_count": 22,
   "metadata": {},
   "outputs": [],
   "source": [
    "rfc = RandomForestClassifier(n_estimators=nTrees, \n",
    "                             min_samples_split=mSS, \n",
    "                             min_samples_leaf = mSL, \n",
    "                             max_features = mF, \n",
    "                             bootstrap = bS, \n",
    "                             random_state=8\n",
    "                            )\n",
    "rfc = rfc.fit(train_x, train_y)"
   ]
  },
  {
   "cell_type": "code",
   "execution_count": 23,
   "metadata": {},
   "outputs": [],
   "source": [
    "rfcPreds = pd.Series(rfc.predict(test_x)) # train the model and convert it to a series"
   ]
  },
  {
   "cell_type": "code",
   "execution_count": 24,
   "metadata": {},
   "outputs": [
    {
     "data": {
      "text/html": [
       "<div>\n",
       "<style scoped>\n",
       "    .dataframe tbody tr th:only-of-type {\n",
       "        vertical-align: middle;\n",
       "    }\n",
       "\n",
       "    .dataframe tbody tr th {\n",
       "        vertical-align: top;\n",
       "    }\n",
       "\n",
       "    .dataframe thead th {\n",
       "        text-align: right;\n",
       "    }\n",
       "</style>\n",
       "<table border=\"1\" class=\"dataframe\">\n",
       "  <thead>\n",
       "    <tr style=\"text-align: right;\">\n",
       "      <th></th>\n",
       "      <th>True</th>\n",
       "      <th>False</th>\n",
       "    </tr>\n",
       "  </thead>\n",
       "  <tbody>\n",
       "    <tr>\n",
       "      <th>Positive</th>\n",
       "      <td>1171</td>\n",
       "      <td>2147</td>\n",
       "    </tr>\n",
       "    <tr>\n",
       "      <th>Negative</th>\n",
       "      <td>11116</td>\n",
       "      <td>566</td>\n",
       "    </tr>\n",
       "  </tbody>\n",
       "</table>\n",
       "</div>"
      ],
      "text/plain": [
       "           True  False\n",
       "Positive   1171   2147\n",
       "Negative  11116    566"
      ]
     },
     "metadata": {},
     "output_type": "display_data"
    }
   ],
   "source": [
    "# display evaluation statistics, one step further than a \n",
    "tp, tn, fp, fn = getEvalStats(rfcPreds, test_y)\n",
    "\n",
    "\n",
    "# display these as a confusion matrix\n",
    "confMatrix(tp, tn, fp, fn)"
   ]
  },
  {
   "cell_type": "code",
   "execution_count": 25,
   "metadata": {},
   "outputs": [
    {
     "name": "stdout",
     "output_type": "stream",
     "text": [
      "accuracy: 81.91 %   sensitivity: 67.42 %   specificity: 83.81 %   precision: 35.29 %\n"
     ]
    }
   ],
   "source": [
    "# print evaluation statistics\n",
    "acc, sen, spe, pre = evaluate(tp, tn, fp, fn)\n",
    "\n",
    "printEvalStats(acc, sen, spe, pre)"
   ]
  },
  {
   "cell_type": "code",
   "execution_count": 26,
   "metadata": {},
   "outputs": [
    {
     "name": "stdout",
     "output_type": "stream",
     "text": [
      "ROC_AUC Value: \n",
      " 0.6522364200437575\n"
     ]
    }
   ],
   "source": [
    "# ROC_AUC value\n",
    "fpr, tpr, th = roc_curve(test_y, rfcPreds)\n",
    "roc_auc = auc(fpr, tpr)\n",
    "print(\"ROC_AUC Value: \\n\", roc_auc)"
   ]
  },
  {
   "cell_type": "code",
   "execution_count": 29,
   "metadata": {},
   "outputs": [
    {
     "data": {
      "image/png": "[encoded data removed]",
      "text/plain": [
       "<Figure size 432x288 with 1 Axes>"
      ]
     },
     "metadata": {
      "needs_background": "light"
     },
     "output_type": "display_data"
    }
   ],
   "source": [
    "# Plot ROC curve\n",
    "plt.plot(fpr, tpr, label='ROC curve (area = %0.3f)' % roc_auc)\n",
    "plt.plot([0, 1], [0, 1], 'k--')  # predictions curve\n",
    "plt.xlim([0.0, 1.0])\n",
    "plt.ylim([0.0, 1.0])\n",
    "plt.xlabel('False Positive Rate or (1 - Specifity)')\n",
    "plt.ylabel('True Positive Rate or (Sensitivity)')\n",
    "plt.title('Receiver Operating Characteristic')\n",
    "plt.legend(loc=\"lower right\")\n",
    "plt.show()"
   ]
  },
  {
   "cell_type": "markdown",
   "metadata": {},
   "source": [
    "#### Evaluation\n",
    "Using random CV was remarkabely more time consuming than crossgrid CV and gave similar results, however, considering that random forest is much stronger than a basic decision tree, it should likely have performed better. Either there has been some incorrect implementation on my part, randomSearch is a lot worse than gridSearch, or the data doesn't show any clear precision rate regardless of the algorithm used."
   ]
  },
  {
   "cell_type": "markdown",
   "metadata": {},
   "source": [
    "### Nearest Neighbour Classifier"
   ]
  },
  {
   "cell_type": "code",
   "execution_count": 41,
   "metadata": {},
   "outputs": [
    {
     "data": {
      "text/plain": [
       "{'leaf_size': 20, 'n_neighbors': 122, 'weights': 'distance'}"
      ]
     },
     "execution_count": 41,
     "metadata": {},
     "output_type": "execute_result"
    }
   ],
   "source": [
    "# gridsearch to find best hyperparameters\n",
    "k = int(test_y.size ** (1/2)) # usually provides good k value, so can search around this value\n",
    "\n",
    "knn = KNeighborsClassifier() # adding k as a parameter her doesn't change the results\n",
    "\n",
    "weights = [\"uniform\", \"distance\"] # weight of nodes to one another\n",
    "leaf_size = [20, 30, 40]  # used in ballTree or KDTree searches\n",
    "n_neighbors = [k-40, k-20, k, k+20, k+40] #search around the reccomended k value\n",
    "\n",
    "parameters = {\"weights\": weights, \n",
    "              \"leaf_size\": leaf_size, \n",
    "              \"n_neighbors\": n_neighbors \n",
    "             }\n",
    "\n",
    "gcv = GridSearchCV(estimator = knn, \n",
    "                   param_grid = parameters, \n",
    "                   n_jobs = -1, \n",
    "                   cv = 5, \n",
    "                  )\n",
    "gcv.fit(train_x, train_y)\n",
    "\n",
    "# save results as easier to read variables\n",
    "weight = gcv.best_params_[\"weights\"]\n",
    "ls = gcv.best_params_[\"leaf_size\"]\n",
    "nNs = gcv.best_params_[\"n_neighbors\"]\n",
    "\n",
    "gcv.best_params_ #display the best parameters"
   ]
  },
  {
   "cell_type": "code",
   "execution_count": 42,
   "metadata": {},
   "outputs": [
    {
     "data": {
      "text/html": [
       "<div>\n",
       "<style scoped>\n",
       "    .dataframe tbody tr th:only-of-type {\n",
       "        vertical-align: middle;\n",
       "    }\n",
       "\n",
       "    .dataframe tbody tr th {\n",
       "        vertical-align: top;\n",
       "    }\n",
       "\n",
       "    .dataframe thead th {\n",
       "        text-align: right;\n",
       "    }\n",
       "</style>\n",
       "<table border=\"1\" class=\"dataframe\">\n",
       "  <thead>\n",
       "    <tr style=\"text-align: right;\">\n",
       "      <th></th>\n",
       "      <th>mean_fit_time</th>\n",
       "      <th>std_fit_time</th>\n",
       "      <th>mean_score_time</th>\n",
       "      <th>std_score_time</th>\n",
       "      <th>param_leaf_size</th>\n",
       "      <th>param_n_neighbors</th>\n",
       "      <th>param_weights</th>\n",
       "      <th>params</th>\n",
       "      <th>split0_test_score</th>\n",
       "      <th>split1_test_score</th>\n",
       "      <th>split2_test_score</th>\n",
       "      <th>split3_test_score</th>\n",
       "      <th>split4_test_score</th>\n",
       "      <th>mean_test_score</th>\n",
       "      <th>std_test_score</th>\n",
       "      <th>rank_test_score</th>\n",
       "    </tr>\n",
       "  </thead>\n",
       "  <tbody>\n",
       "    <tr>\n",
       "      <th>25</th>\n",
       "      <td>0.281133</td>\n",
       "      <td>0.024817</td>\n",
       "      <td>1.508696</td>\n",
       "      <td>0.149959</td>\n",
       "      <td>40</td>\n",
       "      <td>122</td>\n",
       "      <td>distance</td>\n",
       "      <td>{'leaf_size': 40, 'n_neighbors': 122, 'weights...</td>\n",
       "      <td>0.777000</td>\n",
       "      <td>0.779667</td>\n",
       "      <td>0.781667</td>\n",
       "      <td>0.782</td>\n",
       "      <td>0.782667</td>\n",
       "      <td>0.780600</td>\n",
       "      <td>0.002059</td>\n",
       "      <td>1</td>\n",
       "    </tr>\n",
       "    <tr>\n",
       "      <th>5</th>\n",
       "      <td>0.235136</td>\n",
       "      <td>0.013410</td>\n",
       "      <td>1.361162</td>\n",
       "      <td>0.118094</td>\n",
       "      <td>20</td>\n",
       "      <td>122</td>\n",
       "      <td>distance</td>\n",
       "      <td>{'leaf_size': 20, 'n_neighbors': 122, 'weights...</td>\n",
       "      <td>0.777000</td>\n",
       "      <td>0.779667</td>\n",
       "      <td>0.781667</td>\n",
       "      <td>0.782</td>\n",
       "      <td>0.782667</td>\n",
       "      <td>0.780600</td>\n",
       "      <td>0.002059</td>\n",
       "      <td>1</td>\n",
       "    </tr>\n",
       "    <tr>\n",
       "      <th>15</th>\n",
       "      <td>0.278728</td>\n",
       "      <td>0.011931</td>\n",
       "      <td>1.513227</td>\n",
       "      <td>0.118124</td>\n",
       "      <td>30</td>\n",
       "      <td>122</td>\n",
       "      <td>distance</td>\n",
       "      <td>{'leaf_size': 30, 'n_neighbors': 122, 'weights...</td>\n",
       "      <td>0.777000</td>\n",
       "      <td>0.779667</td>\n",
       "      <td>0.781667</td>\n",
       "      <td>0.782</td>\n",
       "      <td>0.782667</td>\n",
       "      <td>0.780600</td>\n",
       "      <td>0.002059</td>\n",
       "      <td>1</td>\n",
       "    </tr>\n",
       "    <tr>\n",
       "      <th>27</th>\n",
       "      <td>0.267540</td>\n",
       "      <td>0.017872</td>\n",
       "      <td>1.619642</td>\n",
       "      <td>0.126255</td>\n",
       "      <td>40</td>\n",
       "      <td>142</td>\n",
       "      <td>distance</td>\n",
       "      <td>{'leaf_size': 40, 'n_neighbors': 142, 'weights...</td>\n",
       "      <td>0.777667</td>\n",
       "      <td>0.779333</td>\n",
       "      <td>0.781333</td>\n",
       "      <td>0.783</td>\n",
       "      <td>0.781333</td>\n",
       "      <td>0.780533</td>\n",
       "      <td>0.001845</td>\n",
       "      <td>4</td>\n",
       "    </tr>\n",
       "    <tr>\n",
       "      <th>17</th>\n",
       "      <td>0.324324</td>\n",
       "      <td>0.063239</td>\n",
       "      <td>1.734896</td>\n",
       "      <td>0.221568</td>\n",
       "      <td>30</td>\n",
       "      <td>142</td>\n",
       "      <td>distance</td>\n",
       "      <td>{'leaf_size': 30, 'n_neighbors': 142, 'weights...</td>\n",
       "      <td>0.777667</td>\n",
       "      <td>0.779333</td>\n",
       "      <td>0.781333</td>\n",
       "      <td>0.783</td>\n",
       "      <td>0.781333</td>\n",
       "      <td>0.780533</td>\n",
       "      <td>0.001845</td>\n",
       "      <td>4</td>\n",
       "    </tr>\n",
       "  </tbody>\n",
       "</table>\n",
       "</div>"
      ],
      "text/plain": [
       "    mean_fit_time  std_fit_time  mean_score_time  std_score_time  \\\n",
       "25       0.281133      0.024817         1.508696        0.149959   \n",
       "5        0.235136      0.013410         1.361162        0.118094   \n",
       "15       0.278728      0.011931         1.513227        0.118124   \n",
       "27       0.267540      0.017872         1.619642        0.126255   \n",
       "17       0.324324      0.063239         1.734896        0.221568   \n",
       "\n",
       "   param_leaf_size param_n_neighbors param_weights  \\\n",
       "25              40               122      distance   \n",
       "5               20               122      distance   \n",
       "15              30               122      distance   \n",
       "27              40               142      distance   \n",
       "17              30               142      distance   \n",
       "\n",
       "                                               params  split0_test_score  \\\n",
       "25  {'leaf_size': 40, 'n_neighbors': 122, 'weights...           0.777000   \n",
       "5   {'leaf_size': 20, 'n_neighbors': 122, 'weights...           0.777000   \n",
       "15  {'leaf_size': 30, 'n_neighbors': 122, 'weights...           0.777000   \n",
       "27  {'leaf_size': 40, 'n_neighbors': 142, 'weights...           0.777667   \n",
       "17  {'leaf_size': 30, 'n_neighbors': 142, 'weights...           0.777667   \n",
       "\n",
       "    split1_test_score  split2_test_score  split3_test_score  \\\n",
       "25           0.779667           0.781667              0.782   \n",
       "5            0.779667           0.781667              0.782   \n",
       "15           0.779667           0.781667              0.782   \n",
       "27           0.779333           0.781333              0.783   \n",
       "17           0.779333           0.781333              0.783   \n",
       "\n",
       "    split4_test_score  mean_test_score  std_test_score  rank_test_score  \n",
       "25           0.782667         0.780600        0.002059                1  \n",
       "5            0.782667         0.780600        0.002059                1  \n",
       "15           0.782667         0.780600        0.002059                1  \n",
       "27           0.781333         0.780533        0.001845                4  \n",
       "17           0.781333         0.780533        0.001845                4  "
      ]
     },
     "execution_count": 42,
     "metadata": {},
     "output_type": "execute_result"
    }
   ],
   "source": [
    "#building a dataframe from cross-validation data\n",
    "df_cv_scores=pd.DataFrame(gcv.cv_results_).sort_values(by='rank_test_score')\n",
    "\n",
    "# displaying the top 5 results\n",
    "df_cv_scores.head()"
   ]
  },
  {
   "cell_type": "code",
   "execution_count": 43,
   "metadata": {},
   "outputs": [],
   "source": [
    "knn = KNeighborsClassifier(n_neighbors=nNs, \n",
    "                             weights=weight, \n",
    "                             leaf_size=ls, \n",
    "                             )\n",
    "knn = knn.fit(train_x, train_y)"
   ]
  },
  {
   "cell_type": "code",
   "execution_count": 44,
   "metadata": {},
   "outputs": [],
   "source": [
    "knnPreds = pd.Series(knn.predict(test_x)) # train the model and convert it to a series"
   ]
  },
  {
   "cell_type": "code",
   "execution_count": 45,
   "metadata": {},
   "outputs": [
    {
     "data": {
      "text/html": [
       "<div>\n",
       "<style scoped>\n",
       "    .dataframe tbody tr th:only-of-type {\n",
       "        vertical-align: middle;\n",
       "    }\n",
       "\n",
       "    .dataframe tbody tr th {\n",
       "        vertical-align: top;\n",
       "    }\n",
       "\n",
       "    .dataframe thead th {\n",
       "        text-align: right;\n",
       "    }\n",
       "</style>\n",
       "<table border=\"1\" class=\"dataframe\">\n",
       "  <thead>\n",
       "    <tr style=\"text-align: right;\">\n",
       "      <th></th>\n",
       "      <th>True</th>\n",
       "      <th>False</th>\n",
       "    </tr>\n",
       "  </thead>\n",
       "  <tbody>\n",
       "    <tr>\n",
       "      <th>Positive</th>\n",
       "      <td>192</td>\n",
       "      <td>3126</td>\n",
       "    </tr>\n",
       "    <tr>\n",
       "      <th>Negative</th>\n",
       "      <td>11506</td>\n",
       "      <td>176</td>\n",
       "    </tr>\n",
       "  </tbody>\n",
       "</table>\n",
       "</div>"
      ],
      "text/plain": [
       "           True  False\n",
       "Positive    192   3126\n",
       "Negative  11506    176"
      ]
     },
     "metadata": {},
     "output_type": "display_data"
    }
   ],
   "source": [
    "# display evaluation statistics, one step further than a \n",
    "tp, tn, fp, fn = getEvalStats(knnPreds, test_y)\n",
    "\n",
    "# display these as a confusion matrix\n",
    "confMatrix(tp, tn, fp, fn)"
   ]
  },
  {
   "cell_type": "code",
   "execution_count": 46,
   "metadata": {},
   "outputs": [
    {
     "name": "stdout",
     "output_type": "stream",
     "text": [
      "accuracy: 77.99 %   sensitivity: 52.17 %   specificity: 78.64 %   precision: 5.79 %\n"
     ]
    }
   ],
   "source": [
    "# print evaluation statistics\n",
    "acc, sen, spe, pre = evaluate(tp, tn, fp, fn)\n",
    "\n",
    "printEvalStats(acc, sen, spe, pre)"
   ]
  },
  {
   "cell_type": "code",
   "execution_count": 47,
   "metadata": {},
   "outputs": [
    {
     "name": "stdout",
     "output_type": "stream",
     "text": [
      "ROC_AUC Value: \n",
      " 0.5214001355387324\n"
     ]
    }
   ],
   "source": [
    "# ROC_AUC value\n",
    "fpr, tpr, th = roc_curve(test_y, knnPreds)\n",
    "roc_auc = auc(fpr, tpr)\n",
    "print(\"ROC_AUC Value: \\n\", roc_auc)"
   ]
  },
  {
   "cell_type": "code",
   "execution_count": 48,
   "metadata": {},
   "outputs": [
    {
     "data": {
      "image/png": "[encoded data removed]",
      "text/plain": [
       "<Figure size 432x288 with 1 Axes>"
      ]
     },
     "metadata": {
      "needs_background": "light"
     },
     "output_type": "display_data"
    }
   ],
   "source": [
    "# Plot ROC curve\n",
    "plt.plot(fpr, tpr, label='ROC curve (area = %0.3f)' % roc_auc)\n",
    "plt.plot([0, 1], [0, 1], 'k--')  # predictions curve\n",
    "plt.xlim([0.0, 1.0])\n",
    "plt.ylim([0.0, 1.0])\n",
    "plt.xlabel('False Positive Rate or (1 - Specifity)')\n",
    "plt.ylabel('True Positive Rate or (Sensitivity)')\n",
    "plt.title('Receiver Operating Characteristic')\n",
    "plt.legend(loc=\"lower right\")\n",
    "plt.show()"
   ]
  },
  {
   "cell_type": "markdown",
   "metadata": {},
   "source": [
    "#### Evaluation pt1\n",
    "both the precision and the roc for this model were particularly low so I tried to re-model is using a different range of N estimators"
   ]
  },
  {
   "cell_type": "code",
   "execution_count": 52,
   "metadata": {},
   "outputs": [
    {
     "data": {
      "text/plain": [
       "{'leaf_size': 20, 'n_neighbors': 21, 'weights': 'uniform'}"
      ]
     },
     "execution_count": 52,
     "metadata": {},
     "output_type": "execute_result"
    }
   ],
   "source": [
    "# gridsearch to find best hyperparameters part 2\n",
    "\n",
    "knn = KNeighborsClassifier() # redeclare empty classifier\n",
    "\n",
    "weights = [\"uniform\", \"distance\"] # weight of nodes to one another\n",
    "leaf_size = [20, 30, 40] # used in ballTree or KDTree searches\n",
    "n_neighbors = [5, 9, 13, 17, 21] #search around the reccomended k value\n",
    "\n",
    "# redeclare new parameters\n",
    "parameters = {\"weights\": weights, \n",
    "              \"leaf_size\": leaf_size, \n",
    "              \"n_neighbors\": n_neighbors \n",
    "             }\n",
    "\n",
    "gcv = GridSearchCV(estimator = knn, \n",
    "                   param_grid = parameters, \n",
    "                   n_jobs = -1, \n",
    "                   cv = 5, \n",
    "                  )\n",
    "gcv.fit(train_x, train_y)\n",
    "\n",
    "# save results as easier to read variables\n",
    "weight = gcv.best_params_[\"weights\"]\n",
    "ls = gcv.best_params_[\"leaf_size\"]\n",
    "nNs = gcv.best_params_[\"n_neighbors\"]\n",
    "\n",
    "gcv.best_params_ #display the best parameters"
   ]
  },
  {
   "cell_type": "code",
   "execution_count": 53,
   "metadata": {},
   "outputs": [
    {
     "data": {
      "text/html": [
       "<div>\n",
       "<style scoped>\n",
       "    .dataframe tbody tr th:only-of-type {\n",
       "        vertical-align: middle;\n",
       "    }\n",
       "\n",
       "    .dataframe tbody tr th {\n",
       "        vertical-align: top;\n",
       "    }\n",
       "\n",
       "    .dataframe thead th {\n",
       "        text-align: right;\n",
       "    }\n",
       "</style>\n",
       "<table border=\"1\" class=\"dataframe\">\n",
       "  <thead>\n",
       "    <tr style=\"text-align: right;\">\n",
       "      <th></th>\n",
       "      <th>True</th>\n",
       "      <th>False</th>\n",
       "    </tr>\n",
       "  </thead>\n",
       "  <tbody>\n",
       "    <tr>\n",
       "      <th>Positive</th>\n",
       "      <td>286</td>\n",
       "      <td>3032</td>\n",
       "    </tr>\n",
       "    <tr>\n",
       "      <th>Negative</th>\n",
       "      <td>11326</td>\n",
       "      <td>356</td>\n",
       "    </tr>\n",
       "  </tbody>\n",
       "</table>\n",
       "</div>"
      ],
      "text/plain": [
       "           True  False\n",
       "Positive    286   3032\n",
       "Negative  11326    356"
      ]
     },
     "metadata": {},
     "output_type": "display_data"
    },
    {
     "name": "stdout",
     "output_type": "stream",
     "text": [
      "accuracy: 77.41 %   sensitivity: 44.55 %   specificity: 78.88 %   precision: 8.62 %\n",
      "ROC_AUC Value: \n",
      " 0.5278611350269793\n"
     ]
    }
   ],
   "source": [
    "knn = KNeighborsClassifier(n_neighbors=nNs, \n",
    "                             weights=weight, \n",
    "                             leaf_size=ls, \n",
    "                             )\n",
    "knn = knn.fit(train_x, train_y)\n",
    "\n",
    "knnPreds = pd.Series(knn.predict(test_x)) # train the model and convert it to a series\n",
    "\n",
    "# display evaluation statistics, one step further than a \n",
    "tp, tn, fp, fn = getEvalStats(knnPreds, test_y)\n",
    "\n",
    "# display these as a confusion matrix\n",
    "confMatrix(tp, tn, fp, fn)\n",
    "\n",
    "# print evaluation statistics\n",
    "acc, sen, spe, pre = evaluate(tp, tn, fp, fn)\n",
    "\n",
    "printEvalStats(acc, sen, spe, pre)\n",
    "\n",
    "# ROC_AUC value\n",
    "fpr, tpr, th = roc_curve(test_y, knnPreds)\n",
    "roc_auc = auc(fpr, tpr)\n",
    "print(\"ROC_AUC Value: \\n\", roc_auc)"
   ]
  },
  {
   "cell_type": "code",
   "execution_count": 54,
   "metadata": {},
   "outputs": [
    {
     "data": {
      "image/png": "[encoded data removed]",
      "text/plain": [
       "<Figure size 432x288 with 1 Axes>"
      ]
     },
     "metadata": {
      "needs_background": "light"
     },
     "output_type": "display_data"
    }
   ],
   "source": [
    "# Plot ROC curve\n",
    "plt.plot(fpr, tpr, label='ROC curve (area = %0.3f)' % roc_auc)\n",
    "plt.plot([0, 1], [0, 1], 'k--')  # predictions curve\n",
    "plt.xlim([0.0, 1.0])\n",
    "plt.ylim([0.0, 1.0])\n",
    "plt.xlabel('False Positive Rate or (1 - Specifity)')\n",
    "plt.ylabel('True Positive Rate or (Sensitivity)')\n",
    "plt.title('Receiver Operating Characteristic')\n",
    "plt.legend(loc=\"lower right\")\n",
    "plt.show()"
   ]
  },
  {
   "cell_type": "markdown",
   "metadata": {},
   "source": [
    "#### Evaluation pt. 2\n",
    "Since this is also a very bad model, I will now run a control"
   ]
  },
  {
   "cell_type": "code",
   "execution_count": 55,
   "metadata": {},
   "outputs": [
    {
     "data": {
      "text/html": [
       "<div>\n",
       "<style scoped>\n",
       "    .dataframe tbody tr th:only-of-type {\n",
       "        vertical-align: middle;\n",
       "    }\n",
       "\n",
       "    .dataframe tbody tr th {\n",
       "        vertical-align: top;\n",
       "    }\n",
       "\n",
       "    .dataframe thead th {\n",
       "        text-align: right;\n",
       "    }\n",
       "</style>\n",
       "<table border=\"1\" class=\"dataframe\">\n",
       "  <thead>\n",
       "    <tr style=\"text-align: right;\">\n",
       "      <th></th>\n",
       "      <th>True</th>\n",
       "      <th>False</th>\n",
       "    </tr>\n",
       "  </thead>\n",
       "  <tbody>\n",
       "    <tr>\n",
       "      <th>Positive</th>\n",
       "      <td>612</td>\n",
       "      <td>2706</td>\n",
       "    </tr>\n",
       "    <tr>\n",
       "      <th>Negative</th>\n",
       "      <td>10665</td>\n",
       "      <td>1017</td>\n",
       "    </tr>\n",
       "  </tbody>\n",
       "</table>\n",
       "</div>"
      ],
      "text/plain": [
       "           True  False\n",
       "Positive    612   2706\n",
       "Negative  10665   1017"
      ]
     },
     "metadata": {},
     "output_type": "display_data"
    },
    {
     "name": "stdout",
     "output_type": "stream",
     "text": [
      "accuracy: 75.18 %   sensitivity: 37.57 %   specificity: 79.76 %   precision: 18.44 %\n",
      "ROC_AUC Value: \n",
      " 0.5486957260718256\n"
     ]
    }
   ],
   "source": [
    "knn = KNeighborsClassifier()\n",
    "knn = knn.fit(train_x, train_y)\n",
    "knnPreds = pd.Series(knn.predict(test_x)) # train the model and convert it to a series\n",
    "\n",
    "# display evaluation statistics, one step further than a \n",
    "tp, tn, fp, fn = getEvalStats(knnPreds, test_y)\n",
    "\n",
    "# display these as a confusion matrix\n",
    "confMatrix(tp, tn, fp, fn)\n",
    "\n",
    "# print evaluation statistics\n",
    "acc, sen, spe, pre = evaluate(tp, tn, fp, fn)\n",
    "printEvalStats(acc, sen, spe, pre)\n",
    "\n",
    "# ROC_AUC value\n",
    "fpr, tpr, th = roc_curve(test_y, knnPreds)\n",
    "roc_auc = auc(fpr, tpr)\n",
    "print(\"ROC_AUC Value: \\n\", roc_auc)"
   ]
  },
  {
   "cell_type": "code",
   "execution_count": 56,
   "metadata": {},
   "outputs": [
    {
     "data": {
      "image/png": "[encoded data removed]",
      "text/plain": [
       "<Figure size 432x288 with 1 Axes>"
      ]
     },
     "metadata": {
      "needs_background": "light"
     },
     "output_type": "display_data"
    }
   ],
   "source": [
    "# Plot ROC curve\n",
    "plt.plot(fpr, tpr, label='ROC curve (area = %0.3f)' % roc_auc)\n",
    "plt.plot([0, 1], [0, 1], 'k--')  # predictions curve\n",
    "plt.xlim([0.0, 1.0])\n",
    "plt.ylim([0.0, 1.0])\n",
    "plt.xlabel('False Positive Rate or (1 - Specifity)')\n",
    "plt.ylabel('True Positive Rate or (Sensitivity)')\n",
    "plt.title('Receiver Operating Characteristic')\n",
    "plt.legend(loc=\"lower right\")\n",
    "plt.show()"
   ]
  },
  {
   "cell_type": "markdown",
   "metadata": {},
   "source": [
    "#### Evaluation pt 3\n",
    "A possibility for these outcomes is overfitting, so I will be running the model on the training data to see if it has very high statistics, which would inply overfitting"
   ]
  },
  {
   "cell_type": "code",
   "execution_count": 58,
   "metadata": {},
   "outputs": [
    {
     "data": {
      "text/html": [
       "<div>\n",
       "<style scoped>\n",
       "    .dataframe tbody tr th:only-of-type {\n",
       "        vertical-align: middle;\n",
       "    }\n",
       "\n",
       "    .dataframe tbody tr th {\n",
       "        vertical-align: top;\n",
       "    }\n",
       "\n",
       "    .dataframe thead th {\n",
       "        text-align: right;\n",
       "    }\n",
       "</style>\n",
       "<table border=\"1\" class=\"dataframe\">\n",
       "  <thead>\n",
       "    <tr style=\"text-align: right;\">\n",
       "      <th></th>\n",
       "      <th>True</th>\n",
       "      <th>False</th>\n",
       "    </tr>\n",
       "  </thead>\n",
       "  <tbody>\n",
       "    <tr>\n",
       "      <th>Positive</th>\n",
       "      <td>1070</td>\n",
       "      <td>2248</td>\n",
       "    </tr>\n",
       "    <tr>\n",
       "      <th>Negative</th>\n",
       "      <td>11162</td>\n",
       "      <td>520</td>\n",
       "    </tr>\n",
       "  </tbody>\n",
       "</table>\n",
       "</div>"
      ],
      "text/plain": [
       "           True  False\n",
       "Positive   1070   2248\n",
       "Negative  11162    520"
      ]
     },
     "metadata": {},
     "output_type": "display_data"
    },
    {
     "name": "stdout",
     "output_type": "stream",
     "text": [
      "accuracy: 81.55 %   sensitivity: 67.3 %   specificity: 83.24 %   precision: 32.25 %\n",
      "ROC_AUC Value: \n",
      " 0.5064418048756173\n"
     ]
    }
   ],
   "source": [
    "knn = KNeighborsClassifier()\n",
    "knn = knn.fit(train_x, train_y)\n",
    "knnPreds = pd.Series(knn.predict(train_x)) # train the model and convert it to a series\n",
    "\n",
    "# display evaluation statistics, one step further than a \n",
    "tp, tn, fp, fn = getEvalStats(knnPreds, train_y)\n",
    "\n",
    "# display these as a confusion matrix\n",
    "confMatrix(tp, tn, fp, fn)\n",
    "\n",
    "# print evaluation statistics\n",
    "acc, sen, spe, pre = evaluate(tp, tn, fp, fn)\n",
    "printEvalStats(acc, sen, spe, pre)\n",
    "\n",
    "# ROC_AUC value\n",
    "fpr, tpr, th = roc_curve(test_y, knnPreds)\n",
    "roc_auc = auc(fpr, tpr)\n",
    "print(\"ROC_AUC Value: \\n\", roc_auc)"
   ]
  },
  {
   "cell_type": "code",
   "execution_count": 59,
   "metadata": {},
   "outputs": [
    {
     "data": {
      "image/png": "[encoded data removed]",
      "text/plain": [
       "<Figure size 432x288 with 1 Axes>"
      ]
     },
     "metadata": {
      "needs_background": "light"
     },
     "output_type": "display_data"
    }
   ],
   "source": [
    "# Plot ROC curve\n",
    "plt.plot(fpr, tpr, label='ROC curve (area = %0.3f)' % roc_auc)\n",
    "plt.plot([0, 1], [0, 1], 'k--')  # predictions curve\n",
    "plt.xlim([0.0, 1.0])\n",
    "plt.ylim([0.0, 1.0])\n",
    "plt.xlabel('False Positive Rate or (1 - Specifity)')\n",
    "plt.ylabel('True Positive Rate or (Sensitivity)')\n",
    "plt.title('Receiver Operating Characteristic')\n",
    "plt.legend(loc=\"lower right\")\n",
    "plt.show()"
   ]
  },
  {
   "cell_type": "markdown",
   "metadata": {},
   "source": [
    "#### Evaluation pt 4\n",
    "As we can see here, the model definitely does not \"overfit\". As I was unhappy with the first model I re-trained it with very different n_neighbors values, maintaining the other values in order to isolate whether n_neighbors was an issue; and also with a control classifier. the precision and AUC are both still very low. I have rigorously checked my calculations, as well as having trained it with several different models. The only reasons I can ascertain for this are that either: \n",
    "1. I am using the provided Cross Validation algorithms incorrectly\n",
    "2. The dataset is one which is difficult to train on with these used algorithms  "
   ]
  },
  {
   "cell_type": "markdown",
   "metadata": {},
   "source": [
    "## Conclusion\n",
    "Both the random forest and the descision tree models performed much better than the knn one. Within the work I have done, I would choose the descision tree classifier. It trains much faster: Partially because of the type of cross validation used, and because of the computational power needed to run a single tree.  \n",
    "\n",
    "Overall I am not happy with the models I have trained and I feel like there may be something fundemental that I do not understand about this whole process. I believe my evaluation and process were thorough though, and the attempts to solve the problems I ran into as well as the documentation of said problem solving processes was performed well.  "
   ]
  }
 ],
 "metadata": {
  "kernelspec": {
   "display_name": "Python 3",
   "language": "python",
   "name": "python3"
  },
  "language_info": {
   "codemirror_mode": {
    "name": "ipython",
    "version": 3
   },
   "file_extension": ".py",
   "mimetype": "text/x-python",
   "name": "python",
   "nbconvert_exporter": "python",
   "pygments_lexer": "ipython3",
   "version": "3.8.5"
  }
 },
 "nbformat": 4,
 "nbformat_minor": 4
}
